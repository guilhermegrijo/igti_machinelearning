{
 "cells": [
  {
   "cell_type": "code",
   "execution_count": 303,
   "metadata": {},
   "outputs": [],
   "source": [
    "import pandas as pd\n",
    "from sklearn.preprocessing import (MinMaxScaler)\n",
    "from sklearn.model_selection import (train_test_split)\n",
    "from sklearn.neighbors import KNeighborsClassifier\n",
    "from sklearn.tree import DecisionTreeClassifier\n",
    "from sklearn.ensemble import RandomForestClassifier\n",
    "from sklearn.svm import SVC\n",
    "from sklearn.neural_network import MLPClassifier"
   ]
  },
  {
   "cell_type": "code",
   "execution_count": 304,
   "metadata": {},
   "outputs": [],
   "source": [
    "df = pd.read_csv(\"winequality-red.csv\")"
   ]
  },
  {
   "cell_type": "code",
   "execution_count": 305,
   "metadata": {},
   "outputs": [
    {
     "output_type": "execute_result",
     "data": {
      "text/plain": "   fixed acidity  volatile acidity  citric acid  residual sugar  chlorides  \\\n0            7.4              0.70         0.00             1.9      0.076   \n1            7.8              0.88         0.00             2.6      0.098   \n2            7.8              0.76         0.04             2.3      0.092   \n3           11.2              0.28         0.56             1.9      0.075   \n4            7.4              0.70         0.00             1.9      0.076   \n\n   free sulfur dioxide  total sulfur dioxide  density    pH  sulphates  \\\n0                 11.0                  34.0   0.9978  3.51       0.56   \n1                 25.0                  67.0   0.9968  3.20       0.68   \n2                 15.0                  54.0   0.9970  3.26       0.65   \n3                 17.0                  60.0   0.9980  3.16       0.58   \n4                 11.0                  34.0   0.9978  3.51       0.56   \n\n   alcohol  quality  \n0      9.4        5  \n1      9.8        5  \n2      9.8        5  \n3      9.8        6  \n4      9.4        5  ",
      "text/html": "<div>\n<style scoped>\n    .dataframe tbody tr th:only-of-type {\n        vertical-align: middle;\n    }\n\n    .dataframe tbody tr th {\n        vertical-align: top;\n    }\n\n    .dataframe thead th {\n        text-align: right;\n    }\n</style>\n<table border=\"1\" class=\"dataframe\">\n  <thead>\n    <tr style=\"text-align: right;\">\n      <th></th>\n      <th>fixed acidity</th>\n      <th>volatile acidity</th>\n      <th>citric acid</th>\n      <th>residual sugar</th>\n      <th>chlorides</th>\n      <th>free sulfur dioxide</th>\n      <th>total sulfur dioxide</th>\n      <th>density</th>\n      <th>pH</th>\n      <th>sulphates</th>\n      <th>alcohol</th>\n      <th>quality</th>\n    </tr>\n  </thead>\n  <tbody>\n    <tr>\n      <th>0</th>\n      <td>7.4</td>\n      <td>0.70</td>\n      <td>0.00</td>\n      <td>1.9</td>\n      <td>0.076</td>\n      <td>11.0</td>\n      <td>34.0</td>\n      <td>0.9978</td>\n      <td>3.51</td>\n      <td>0.56</td>\n      <td>9.4</td>\n      <td>5</td>\n    </tr>\n    <tr>\n      <th>1</th>\n      <td>7.8</td>\n      <td>0.88</td>\n      <td>0.00</td>\n      <td>2.6</td>\n      <td>0.098</td>\n      <td>25.0</td>\n      <td>67.0</td>\n      <td>0.9968</td>\n      <td>3.20</td>\n      <td>0.68</td>\n      <td>9.8</td>\n      <td>5</td>\n    </tr>\n    <tr>\n      <th>2</th>\n      <td>7.8</td>\n      <td>0.76</td>\n      <td>0.04</td>\n      <td>2.3</td>\n      <td>0.092</td>\n      <td>15.0</td>\n      <td>54.0</td>\n      <td>0.9970</td>\n      <td>3.26</td>\n      <td>0.65</td>\n      <td>9.8</td>\n      <td>5</td>\n    </tr>\n    <tr>\n      <th>3</th>\n      <td>11.2</td>\n      <td>0.28</td>\n      <td>0.56</td>\n      <td>1.9</td>\n      <td>0.075</td>\n      <td>17.0</td>\n      <td>60.0</td>\n      <td>0.9980</td>\n      <td>3.16</td>\n      <td>0.58</td>\n      <td>9.8</td>\n      <td>6</td>\n    </tr>\n    <tr>\n      <th>4</th>\n      <td>7.4</td>\n      <td>0.70</td>\n      <td>0.00</td>\n      <td>1.9</td>\n      <td>0.076</td>\n      <td>11.0</td>\n      <td>34.0</td>\n      <td>0.9978</td>\n      <td>3.51</td>\n      <td>0.56</td>\n      <td>9.4</td>\n      <td>5</td>\n    </tr>\n  </tbody>\n</table>\n</div>"
     },
     "metadata": {},
     "execution_count": 305
    }
   ],
   "source": [
    "df.head()"
   ]
  },
  {
   "cell_type": "code",
   "execution_count": 306,
   "metadata": {},
   "outputs": [
    {
     "output_type": "execute_result",
     "data": {
      "text/plain": "(1599, 12)"
     },
     "metadata": {},
     "execution_count": 306
    }
   ],
   "source": [
    "df.shape"
   ]
  },
  {
   "cell_type": "code",
   "execution_count": 307,
   "metadata": {},
   "outputs": [
    {
     "output_type": "execute_result",
     "data": {
      "text/plain": "float64    11\nint64       1\ndtype: int64"
     },
     "metadata": {},
     "execution_count": 307
    }
   ],
   "source": [
    "df.dtypes.value_counts()"
   ]
  },
  {
   "cell_type": "code",
   "execution_count": 308,
   "metadata": {},
   "outputs": [
    {
     "output_type": "execute_result",
     "data": {
      "text/plain": "fixed acidity           0.0\nvolatile acidity        0.0\ncitric acid             0.0\nresidual sugar          0.0\nchlorides               0.0\nfree sulfur dioxide     0.0\ntotal sulfur dioxide    0.0\ndensity                 0.0\npH                      0.0\nsulphates               0.0\nalcohol                 0.0\nquality                 0.0\ndtype: float64"
     },
     "metadata": {},
     "execution_count": 308
    }
   ],
   "source": [
    "df.isna().sum() / len(df)"
   ]
  },
  {
   "cell_type": "code",
   "execution_count": 309,
   "metadata": {},
   "outputs": [
    {
     "output_type": "execute_result",
     "data": {
      "text/plain": "       fixed acidity  volatile acidity  citric acid  residual sugar  \\\ncount    1599.000000       1599.000000  1599.000000     1599.000000   \nmean        8.319637          0.527821     0.270976        2.538806   \nstd         1.741096          0.179060     0.194801        1.409928   \nmin         4.600000          0.120000     0.000000        0.900000   \n25%         7.100000          0.390000     0.090000        1.900000   \n50%         7.900000          0.520000     0.260000        2.200000   \n75%         9.200000          0.640000     0.420000        2.600000   \nmax        15.900000          1.580000     1.000000       15.500000   \n\n         chlorides  free sulfur dioxide  total sulfur dioxide      density  \\\ncount  1599.000000          1599.000000           1599.000000  1599.000000   \nmean      0.087467            15.874922             46.467792     0.996747   \nstd       0.047065            10.460157             32.895324     0.001887   \nmin       0.012000             1.000000              6.000000     0.990070   \n25%       0.070000             7.000000             22.000000     0.995600   \n50%       0.079000            14.000000             38.000000     0.996750   \n75%       0.090000            21.000000             62.000000     0.997835   \nmax       0.611000            72.000000            289.000000     1.003690   \n\n                pH    sulphates      alcohol      quality  \ncount  1599.000000  1599.000000  1599.000000  1599.000000  \nmean      3.311113     0.658149    10.422983     5.636023  \nstd       0.154386     0.169507     1.065668     0.807569  \nmin       2.740000     0.330000     8.400000     3.000000  \n25%       3.210000     0.550000     9.500000     5.000000  \n50%       3.310000     0.620000    10.200000     6.000000  \n75%       3.400000     0.730000    11.100000     6.000000  \nmax       4.010000     2.000000    14.900000     8.000000  ",
      "text/html": "<div>\n<style scoped>\n    .dataframe tbody tr th:only-of-type {\n        vertical-align: middle;\n    }\n\n    .dataframe tbody tr th {\n        vertical-align: top;\n    }\n\n    .dataframe thead th {\n        text-align: right;\n    }\n</style>\n<table border=\"1\" class=\"dataframe\">\n  <thead>\n    <tr style=\"text-align: right;\">\n      <th></th>\n      <th>fixed acidity</th>\n      <th>volatile acidity</th>\n      <th>citric acid</th>\n      <th>residual sugar</th>\n      <th>chlorides</th>\n      <th>free sulfur dioxide</th>\n      <th>total sulfur dioxide</th>\n      <th>density</th>\n      <th>pH</th>\n      <th>sulphates</th>\n      <th>alcohol</th>\n      <th>quality</th>\n    </tr>\n  </thead>\n  <tbody>\n    <tr>\n      <th>count</th>\n      <td>1599.000000</td>\n      <td>1599.000000</td>\n      <td>1599.000000</td>\n      <td>1599.000000</td>\n      <td>1599.000000</td>\n      <td>1599.000000</td>\n      <td>1599.000000</td>\n      <td>1599.000000</td>\n      <td>1599.000000</td>\n      <td>1599.000000</td>\n      <td>1599.000000</td>\n      <td>1599.000000</td>\n    </tr>\n    <tr>\n      <th>mean</th>\n      <td>8.319637</td>\n      <td>0.527821</td>\n      <td>0.270976</td>\n      <td>2.538806</td>\n      <td>0.087467</td>\n      <td>15.874922</td>\n      <td>46.467792</td>\n      <td>0.996747</td>\n      <td>3.311113</td>\n      <td>0.658149</td>\n      <td>10.422983</td>\n      <td>5.636023</td>\n    </tr>\n    <tr>\n      <th>std</th>\n      <td>1.741096</td>\n      <td>0.179060</td>\n      <td>0.194801</td>\n      <td>1.409928</td>\n      <td>0.047065</td>\n      <td>10.460157</td>\n      <td>32.895324</td>\n      <td>0.001887</td>\n      <td>0.154386</td>\n      <td>0.169507</td>\n      <td>1.065668</td>\n      <td>0.807569</td>\n    </tr>\n    <tr>\n      <th>min</th>\n      <td>4.600000</td>\n      <td>0.120000</td>\n      <td>0.000000</td>\n      <td>0.900000</td>\n      <td>0.012000</td>\n      <td>1.000000</td>\n      <td>6.000000</td>\n      <td>0.990070</td>\n      <td>2.740000</td>\n      <td>0.330000</td>\n      <td>8.400000</td>\n      <td>3.000000</td>\n    </tr>\n    <tr>\n      <th>25%</th>\n      <td>7.100000</td>\n      <td>0.390000</td>\n      <td>0.090000</td>\n      <td>1.900000</td>\n      <td>0.070000</td>\n      <td>7.000000</td>\n      <td>22.000000</td>\n      <td>0.995600</td>\n      <td>3.210000</td>\n      <td>0.550000</td>\n      <td>9.500000</td>\n      <td>5.000000</td>\n    </tr>\n    <tr>\n      <th>50%</th>\n      <td>7.900000</td>\n      <td>0.520000</td>\n      <td>0.260000</td>\n      <td>2.200000</td>\n      <td>0.079000</td>\n      <td>14.000000</td>\n      <td>38.000000</td>\n      <td>0.996750</td>\n      <td>3.310000</td>\n      <td>0.620000</td>\n      <td>10.200000</td>\n      <td>6.000000</td>\n    </tr>\n    <tr>\n      <th>75%</th>\n      <td>9.200000</td>\n      <td>0.640000</td>\n      <td>0.420000</td>\n      <td>2.600000</td>\n      <td>0.090000</td>\n      <td>21.000000</td>\n      <td>62.000000</td>\n      <td>0.997835</td>\n      <td>3.400000</td>\n      <td>0.730000</td>\n      <td>11.100000</td>\n      <td>6.000000</td>\n    </tr>\n    <tr>\n      <th>max</th>\n      <td>15.900000</td>\n      <td>1.580000</td>\n      <td>1.000000</td>\n      <td>15.500000</td>\n      <td>0.611000</td>\n      <td>72.000000</td>\n      <td>289.000000</td>\n      <td>1.003690</td>\n      <td>4.010000</td>\n      <td>2.000000</td>\n      <td>14.900000</td>\n      <td>8.000000</td>\n    </tr>\n  </tbody>\n</table>\n</div>"
     },
     "metadata": {},
     "execution_count": 309
    }
   ],
   "source": [
    "df.describe()"
   ]
  },
  {
   "cell_type": "code",
   "execution_count": 310,
   "metadata": {},
   "outputs": [
    {
     "output_type": "execute_result",
     "data": {
      "text/plain": "2.2"
     },
     "metadata": {},
     "execution_count": 310
    }
   ],
   "source": [
    "df[\"residual sugar\"].median()"
   ]
  },
  {
   "cell_type": "code",
   "execution_count": 311,
   "metadata": {},
   "outputs": [
    {
     "output_type": "execute_result",
     "data": {
      "text/plain": "<pandas.io.formats.style.Styler at 0x28e7215bf08>",
      "text/html": "<style  type=\"text/css\" >\n    #T_f1230c34_ab48_11ea_9883_309c2342e273row0_col0 {\n            background-color:  #b40426;\n            color:  #f1f1f1;\n        }    #T_f1230c34_ab48_11ea_9883_309c2342e273row0_col1 {\n            background-color:  #779af7;\n            color:  #000000;\n        }    #T_f1230c34_ab48_11ea_9883_309c2342e273row0_col2 {\n            background-color:  #f08a6c;\n            color:  #000000;\n        }    #T_f1230c34_ab48_11ea_9883_309c2342e273row0_col3 {\n            background-color:  #7699f6;\n            color:  #000000;\n        }    #T_f1230c34_ab48_11ea_9883_309c2342e273row0_col4 {\n            background-color:  #98b9ff;\n            color:  #000000;\n        }    #T_f1230c34_ab48_11ea_9883_309c2342e273row0_col5 {\n            background-color:  #3b4cc0;\n            color:  #f1f1f1;\n        }    #T_f1230c34_ab48_11ea_9883_309c2342e273row0_col6 {\n            background-color:  #516ddb;\n            color:  #000000;\n        }    #T_f1230c34_ab48_11ea_9883_309c2342e273row0_col7 {\n            background-color:  #f18d6f;\n            color:  #000000;\n        }    #T_f1230c34_ab48_11ea_9883_309c2342e273row0_col8 {\n            background-color:  #3b4cc0;\n            color:  #f1f1f1;\n        }    #T_f1230c34_ab48_11ea_9883_309c2342e273row0_col9 {\n            background-color:  #b1cbfc;\n            color:  #000000;\n        }    #T_f1230c34_ab48_11ea_9883_309c2342e273row0_col10 {\n            background-color:  #9bbcff;\n            color:  #000000;\n        }    #T_f1230c34_ab48_11ea_9883_309c2342e273row0_col11 {\n            background-color:  #b6cefa;\n            color:  #000000;\n        }    #T_f1230c34_ab48_11ea_9883_309c2342e273row1_col0 {\n            background-color:  #8db0fe;\n            color:  #000000;\n        }    #T_f1230c34_ab48_11ea_9883_309c2342e273row1_col1 {\n            background-color:  #b40426;\n            color:  #f1f1f1;\n        }    #T_f1230c34_ab48_11ea_9883_309c2342e273row1_col2 {\n            background-color:  #3b4cc0;\n            color:  #f1f1f1;\n        }    #T_f1230c34_ab48_11ea_9883_309c2342e273row1_col3 {\n            background-color:  #536edd;\n            color:  #000000;\n        }    #T_f1230c34_ab48_11ea_9883_309c2342e273row1_col4 {\n            background-color:  #90b2fe;\n            color:  #000000;\n        }    #T_f1230c34_ab48_11ea_9883_309c2342e273row1_col5 {\n            background-color:  #6180e9;\n            color:  #000000;\n        }    #T_f1230c34_ab48_11ea_9883_309c2342e273row1_col6 {\n            background-color:  #86a9fc;\n            color:  #000000;\n        }    #T_f1230c34_ab48_11ea_9883_309c2342e273row1_col7 {\n            background-color:  #aec9fc;\n            color:  #000000;\n        }    #T_f1230c34_ab48_11ea_9883_309c2342e273row1_col8 {\n            background-color:  #e8d6cc;\n            color:  #000000;\n        }    #T_f1230c34_ab48_11ea_9883_309c2342e273row1_col9 {\n            background-color:  #3b4cc0;\n            color:  #f1f1f1;\n        }    #T_f1230c34_ab48_11ea_9883_309c2342e273row1_col10 {\n            background-color:  #7a9df8;\n            color:  #000000;\n        }    #T_f1230c34_ab48_11ea_9883_309c2342e273row1_col11 {\n            background-color:  #3b4cc0;\n            color:  #f1f1f1;\n        }    #T_f1230c34_ab48_11ea_9883_309c2342e273row2_col0 {\n            background-color:  #ec8165;\n            color:  #000000;\n        }    #T_f1230c34_ab48_11ea_9883_309c2342e273row2_col1 {\n            background-color:  #3b4cc0;\n            color:  #f1f1f1;\n        }    #T_f1230c34_ab48_11ea_9883_309c2342e273row2_col2 {\n            background-color:  #b40426;\n            color:  #f1f1f1;\n        }    #T_f1230c34_ab48_11ea_9883_309c2342e273row2_col3 {\n            background-color:  #80a3fa;\n            color:  #000000;\n        }    #T_f1230c34_ab48_11ea_9883_309c2342e273row2_col4 {\n            background-color:  #b6cefa;\n            color:  #000000;\n        }    #T_f1230c34_ab48_11ea_9883_309c2342e273row2_col5 {\n            background-color:  #536edd;\n            color:  #000000;\n        }    #T_f1230c34_ab48_11ea_9883_309c2342e273row2_col6 {\n            background-color:  #7b9ff9;\n            color:  #000000;\n        }    #T_f1230c34_ab48_11ea_9883_309c2342e273row2_col7 {\n            background-color:  #eed0c0;\n            color:  #000000;\n        }    #T_f1230c34_ab48_11ea_9883_309c2342e273row2_col8 {\n            background-color:  #5470de;\n            color:  #000000;\n        }    #T_f1230c34_ab48_11ea_9883_309c2342e273row2_col9 {\n            background-color:  #d1dae9;\n            color:  #000000;\n        }    #T_f1230c34_ab48_11ea_9883_309c2342e273row2_col10 {\n            background-color:  #c1d4f4;\n            color:  #000000;\n        }    #T_f1230c34_ab48_11ea_9883_309c2342e273row2_col11 {\n            background-color:  #cdd9ec;\n            color:  #000000;\n        }    #T_f1230c34_ab48_11ea_9883_309c2342e273row3_col0 {\n            background-color:  #d6dce4;\n            color:  #000000;\n        }    #T_f1230c34_ab48_11ea_9883_309c2342e273row3_col1 {\n            background-color:  #b2ccfb;\n            color:  #000000;\n        }    #T_f1230c34_ab48_11ea_9883_309c2342e273row3_col2 {\n            background-color:  #cedaeb;\n            color:  #000000;\n        }    #T_f1230c34_ab48_11ea_9883_309c2342e273row3_col3 {\n            background-color:  #b40426;\n            color:  #f1f1f1;\n        }    #T_f1230c34_ab48_11ea_9883_309c2342e273row3_col4 {\n            background-color:  #8db0fe;\n            color:  #000000;\n        }    #T_f1230c34_ab48_11ea_9883_309c2342e273row3_col5 {\n            background-color:  #9dbdff;\n            color:  #000000;\n        }    #T_f1230c34_ab48_11ea_9883_309c2342e273row3_col6 {\n            background-color:  #abc8fd;\n            color:  #000000;\n        }    #T_f1230c34_ab48_11ea_9883_309c2342e273row3_col7 {\n            background-color:  #edd2c3;\n            color:  #000000;\n        }    #T_f1230c34_ab48_11ea_9883_309c2342e273row3_col8 {\n            background-color:  #b1cbfc;\n            color:  #000000;\n        }    #T_f1230c34_ab48_11ea_9883_309c2342e273row3_col9 {\n            background-color:  #80a3fa;\n            color:  #000000;\n        }    #T_f1230c34_ab48_11ea_9883_309c2342e273row3_col10 {\n            background-color:  #b3cdfb;\n            color:  #000000;\n        }    #T_f1230c34_ab48_11ea_9883_309c2342e273row3_col11 {\n            background-color:  #9bbcff;\n            color:  #000000;\n        }    #T_f1230c34_ab48_11ea_9883_309c2342e273row4_col0 {\n            background-color:  #d3dbe7;\n            color:  #000000;\n        }    #T_f1230c34_ab48_11ea_9883_309c2342e273row4_col1 {\n            background-color:  #bfd3f6;\n            color:  #000000;\n        }    #T_f1230c34_ab48_11ea_9883_309c2342e273row4_col2 {\n            background-color:  #d9dce1;\n            color:  #000000;\n        }    #T_f1230c34_ab48_11ea_9883_309c2342e273row4_col3 {\n            background-color:  #6384eb;\n            color:  #000000;\n        }    #T_f1230c34_ab48_11ea_9883_309c2342e273row4_col4 {\n            background-color:  #b40426;\n            color:  #f1f1f1;\n        }    #T_f1230c34_ab48_11ea_9883_309c2342e273row4_col5 {\n            background-color:  #6687ed;\n            color:  #000000;\n        }    #T_f1230c34_ab48_11ea_9883_309c2342e273row4_col6 {\n            background-color:  #7ea1fa;\n            color:  #000000;\n        }    #T_f1230c34_ab48_11ea_9883_309c2342e273row4_col7 {\n            background-color:  #d4dbe6;\n            color:  #000000;\n        }    #T_f1230c34_ab48_11ea_9883_309c2342e273row4_col8 {\n            background-color:  #8caffe;\n            color:  #000000;\n        }    #T_f1230c34_ab48_11ea_9883_309c2342e273row4_col9 {\n            background-color:  #dddcdc;\n            color:  #000000;\n        }    #T_f1230c34_ab48_11ea_9883_309c2342e273row4_col10 {\n            background-color:  #7699f6;\n            color:  #000000;\n        }    #T_f1230c34_ab48_11ea_9883_309c2342e273row4_col11 {\n            background-color:  #779af7;\n            color:  #000000;\n        }    #T_f1230c34_ab48_11ea_9883_309c2342e273row5_col0 {\n            background-color:  #a3c2fe;\n            color:  #000000;\n        }    #T_f1230c34_ab48_11ea_9883_309c2342e273row5_col1 {\n            background-color:  #afcafc;\n            color:  #000000;\n        }    #T_f1230c34_ab48_11ea_9883_309c2342e273row5_col2 {\n            background-color:  #a5c3fe;\n            color:  #000000;\n        }    #T_f1230c34_ab48_11ea_9883_309c2342e273row5_col3 {\n            background-color:  #8db0fe;\n            color:  #000000;\n        }    #T_f1230c34_ab48_11ea_9883_309c2342e273row5_col4 {\n            background-color:  #80a3fa;\n            color:  #000000;\n        }    #T_f1230c34_ab48_11ea_9883_309c2342e273row5_col5 {\n            background-color:  #b40426;\n            color:  #f1f1f1;\n        }    #T_f1230c34_ab48_11ea_9883_309c2342e273row5_col6 {\n            background-color:  #f6a385;\n            color:  #000000;\n        }    #T_f1230c34_ab48_11ea_9883_309c2342e273row5_col7 {\n            background-color:  #a5c3fe;\n            color:  #000000;\n        }    #T_f1230c34_ab48_11ea_9883_309c2342e273row5_col8 {\n            background-color:  #cedaeb;\n            color:  #000000;\n        }    #T_f1230c34_ab48_11ea_9883_309c2342e273row5_col9 {\n            background-color:  #8caffe;\n            color:  #000000;\n        }    #T_f1230c34_ab48_11ea_9883_309c2342e273row5_col10 {\n            background-color:  #9abbff;\n            color:  #000000;\n        }    #T_f1230c34_ab48_11ea_9883_309c2342e273row5_col11 {\n            background-color:  #8badfd;\n            color:  #000000;\n        }    #T_f1230c34_ab48_11ea_9883_309c2342e273row6_col0 {\n            background-color:  #abc8fd;\n            color:  #000000;\n        }    #T_f1230c34_ab48_11ea_9883_309c2342e273row6_col1 {\n            background-color:  #c1d4f4;\n            color:  #000000;\n        }    #T_f1230c34_ab48_11ea_9883_309c2342e273row6_col2 {\n            background-color:  #b9d0f9;\n            color:  #000000;\n        }    #T_f1230c34_ab48_11ea_9883_309c2342e273row6_col3 {\n            background-color:  #93b5fe;\n            color:  #000000;\n        }    #T_f1230c34_ab48_11ea_9883_309c2342e273row6_col4 {\n            background-color:  #8caffe;\n            color:  #000000;\n        }    #T_f1230c34_ab48_11ea_9883_309c2342e273row6_col5 {\n            background-color:  #f7a889;\n            color:  #000000;\n        }    #T_f1230c34_ab48_11ea_9883_309c2342e273row6_col6 {\n            background-color:  #b40426;\n            color:  #f1f1f1;\n        }    #T_f1230c34_ab48_11ea_9883_309c2342e273row6_col7 {\n            background-color:  #bad0f8;\n            color:  #000000;\n        }    #T_f1230c34_ab48_11ea_9883_309c2342e273row6_col8 {\n            background-color:  #b5cdfa;\n            color:  #000000;\n        }    #T_f1230c34_ab48_11ea_9883_309c2342e273row6_col9 {\n            background-color:  #89acfd;\n            color:  #000000;\n        }    #T_f1230c34_ab48_11ea_9883_309c2342e273row6_col10 {\n            background-color:  #799cf8;\n            color:  #000000;\n        }    #T_f1230c34_ab48_11ea_9883_309c2342e273row6_col11 {\n            background-color:  #688aef;\n            color:  #000000;\n        }    #T_f1230c34_ab48_11ea_9883_309c2342e273row7_col0 {\n            background-color:  #ed8366;\n            color:  #000000;\n        }    #T_f1230c34_ab48_11ea_9883_309c2342e273row7_col1 {\n            background-color:  #b6cefa;\n            color:  #000000;\n        }    #T_f1230c34_ab48_11ea_9883_309c2342e273row7_col2 {\n            background-color:  #f1cdba;\n            color:  #000000;\n        }    #T_f1230c34_ab48_11ea_9883_309c2342e273row7_col3 {\n            background-color:  #c1d4f4;\n            color:  #000000;\n        }    #T_f1230c34_ab48_11ea_9883_309c2342e273row7_col4 {\n            background-color:  #b6cefa;\n            color:  #000000;\n        }    #T_f1230c34_ab48_11ea_9883_309c2342e273row7_col5 {\n            background-color:  #5e7de7;\n            color:  #000000;\n        }    #T_f1230c34_ab48_11ea_9883_309c2342e273row7_col6 {\n            background-color:  #85a8fc;\n            color:  #000000;\n        }    #T_f1230c34_ab48_11ea_9883_309c2342e273row7_col7 {\n            background-color:  #b40426;\n            color:  #f1f1f1;\n        }    #T_f1230c34_ab48_11ea_9883_309c2342e273row7_col8 {\n            background-color:  #7b9ff9;\n            color:  #000000;\n        }    #T_f1230c34_ab48_11ea_9883_309c2342e273row7_col9 {\n            background-color:  #a7c5fe;\n            color:  #000000;\n        }    #T_f1230c34_ab48_11ea_9883_309c2342e273row7_col10 {\n            background-color:  #3b4cc0;\n            color:  #f1f1f1;\n        }    #T_f1230c34_ab48_11ea_9883_309c2342e273row7_col11 {\n            background-color:  #6b8df0;\n            color:  #000000;\n        }    #T_f1230c34_ab48_11ea_9883_309c2342e273row8_col0 {\n            background-color:  #3b4cc0;\n            color:  #f1f1f1;\n        }    #T_f1230c34_ab48_11ea_9883_309c2342e273row8_col1 {\n            background-color:  #dedcdb;\n            color:  #000000;\n        }    #T_f1230c34_ab48_11ea_9883_309c2342e273row8_col2 {\n            background-color:  #3c4ec2;\n            color:  #f1f1f1;\n        }    #T_f1230c34_ab48_11ea_9883_309c2342e273row8_col3 {\n            background-color:  #3b4cc0;\n            color:  #f1f1f1;\n        }    #T_f1230c34_ab48_11ea_9883_309c2342e273row8_col4 {\n            background-color:  #3b4cc0;\n            color:  #f1f1f1;\n        }    #T_f1230c34_ab48_11ea_9883_309c2342e273row8_col5 {\n            background-color:  #799cf8;\n            color:  #000000;\n        }    #T_f1230c34_ab48_11ea_9883_309c2342e273row8_col6 {\n            background-color:  #5e7de7;\n            color:  #000000;\n        }    #T_f1230c34_ab48_11ea_9883_309c2342e273row8_col7 {\n            background-color:  #5a78e4;\n            color:  #000000;\n        }    #T_f1230c34_ab48_11ea_9883_309c2342e273row8_col8 {\n            background-color:  #b40426;\n            color:  #f1f1f1;\n        }    #T_f1230c34_ab48_11ea_9883_309c2342e273row8_col9 {\n            background-color:  #4a63d3;\n            color:  #f1f1f1;\n        }    #T_f1230c34_ab48_11ea_9883_309c2342e273row8_col10 {\n            background-color:  #d5dbe5;\n            color:  #000000;\n        }    #T_f1230c34_ab48_11ea_9883_309c2342e273row8_col11 {\n            background-color:  #89acfd;\n            color:  #000000;\n        }    #T_f1230c34_ab48_11ea_9883_309c2342e273row9_col0 {\n            background-color:  #e0dbd8;\n            color:  #000000;\n        }    #T_f1230c34_ab48_11ea_9883_309c2342e273row9_col1 {\n            background-color:  #779af7;\n            color:  #000000;\n        }    #T_f1230c34_ab48_11ea_9883_309c2342e273row9_col2 {\n            background-color:  #ead4c8;\n            color:  #000000;\n        }    #T_f1230c34_ab48_11ea_9883_309c2342e273row9_col3 {\n            background-color:  #5470de;\n            color:  #000000;\n        }    #T_f1230c34_ab48_11ea_9883_309c2342e273row9_col4 {\n            background-color:  #dddcdc;\n            color:  #000000;\n        }    #T_f1230c34_ab48_11ea_9883_309c2342e273row9_col5 {\n            background-color:  #7396f5;\n            color:  #000000;\n        }    #T_f1230c34_ab48_11ea_9883_309c2342e273row9_col6 {\n            background-color:  #7da0f9;\n            color:  #000000;\n        }    #T_f1230c34_ab48_11ea_9883_309c2342e273row9_col7 {\n            background-color:  #cad8ef;\n            color:  #000000;\n        }    #T_f1230c34_ab48_11ea_9883_309c2342e273row9_col8 {\n            background-color:  #9abbff;\n            color:  #000000;\n        }    #T_f1230c34_ab48_11ea_9883_309c2342e273row9_col9 {\n            background-color:  #b40426;\n            color:  #f1f1f1;\n        }    #T_f1230c34_ab48_11ea_9883_309c2342e273row9_col10 {\n            background-color:  #bed2f6;\n            color:  #000000;\n        }    #T_f1230c34_ab48_11ea_9883_309c2342e273row9_col11 {\n            background-color:  #d3dbe7;\n            color:  #000000;\n        }    #T_f1230c34_ab48_11ea_9883_309c2342e273row10_col0 {\n            background-color:  #b6cefa;\n            color:  #000000;\n        }    #T_f1230c34_ab48_11ea_9883_309c2342e273row10_col1 {\n            background-color:  #84a7fc;\n            color:  #000000;\n        }    #T_f1230c34_ab48_11ea_9883_309c2342e273row10_col2 {\n            background-color:  #c9d7f0;\n            color:  #000000;\n        }    #T_f1230c34_ab48_11ea_9883_309c2342e273row10_col3 {\n            background-color:  #5f7fe8;\n            color:  #000000;\n        }    #T_f1230c34_ab48_11ea_9883_309c2342e273row10_col4 {\n            background-color:  #445acc;\n            color:  #f1f1f1;\n        }    #T_f1230c34_ab48_11ea_9883_309c2342e273row10_col5 {\n            background-color:  #506bda;\n            color:  #000000;\n        }    #T_f1230c34_ab48_11ea_9883_309c2342e273row10_col6 {\n            background-color:  #3b4cc0;\n            color:  #f1f1f1;\n        }    #T_f1230c34_ab48_11ea_9883_309c2342e273row10_col7 {\n            background-color:  #3b4cc0;\n            color:  #f1f1f1;\n        }    #T_f1230c34_ab48_11ea_9883_309c2342e273row10_col8 {\n            background-color:  #e4d9d2;\n            color:  #000000;\n        }    #T_f1230c34_ab48_11ea_9883_309c2342e273row10_col9 {\n            background-color:  #97b8ff;\n            color:  #000000;\n        }    #T_f1230c34_ab48_11ea_9883_309c2342e273row10_col10 {\n            background-color:  #b40426;\n            color:  #f1f1f1;\n        }    #T_f1230c34_ab48_11ea_9883_309c2342e273row10_col11 {\n            background-color:  #f4c5ad;\n            color:  #000000;\n        }    #T_f1230c34_ab48_11ea_9883_309c2342e273row11_col0 {\n            background-color:  #d7dce3;\n            color:  #000000;\n        }    #T_f1230c34_ab48_11ea_9883_309c2342e273row11_col1 {\n            background-color:  #5a78e4;\n            color:  #000000;\n        }    #T_f1230c34_ab48_11ea_9883_309c2342e273row11_col2 {\n            background-color:  #dddcdc;\n            color:  #000000;\n        }    #T_f1230c34_ab48_11ea_9883_309c2342e273row11_col3 {\n            background-color:  #5673e0;\n            color:  #000000;\n        }    #T_f1230c34_ab48_11ea_9883_309c2342e273row11_col4 {\n            background-color:  #5b7ae5;\n            color:  #000000;\n        }    #T_f1230c34_ab48_11ea_9883_309c2342e273row11_col5 {\n            background-color:  #5572df;\n            color:  #000000;\n        }    #T_f1230c34_ab48_11ea_9883_309c2342e273row11_col6 {\n            background-color:  #3f53c6;\n            color:  #f1f1f1;\n        }    #T_f1230c34_ab48_11ea_9883_309c2342e273row11_col7 {\n            background-color:  #80a3fa;\n            color:  #000000;\n        }    #T_f1230c34_ab48_11ea_9883_309c2342e273row11_col8 {\n            background-color:  #b7cff9;\n            color:  #000000;\n        }    #T_f1230c34_ab48_11ea_9883_309c2342e273row11_col9 {\n            background-color:  #c3d5f4;\n            color:  #000000;\n        }    #T_f1230c34_ab48_11ea_9883_309c2342e273row11_col10 {\n            background-color:  #f6bda2;\n            color:  #000000;\n        }    #T_f1230c34_ab48_11ea_9883_309c2342e273row11_col11 {\n            background-color:  #b40426;\n            color:  #f1f1f1;\n        }</style><table id=\"T_f1230c34_ab48_11ea_9883_309c2342e273\" ><thead>    <tr>        <th class=\"blank level0\" ></th>        <th class=\"col_heading level0 col0\" >fixed acidity</th>        <th class=\"col_heading level0 col1\" >volatile acidity</th>        <th class=\"col_heading level0 col2\" >citric acid</th>        <th class=\"col_heading level0 col3\" >residual sugar</th>        <th class=\"col_heading level0 col4\" >chlorides</th>        <th class=\"col_heading level0 col5\" >free sulfur dioxide</th>        <th class=\"col_heading level0 col6\" >total sulfur dioxide</th>        <th class=\"col_heading level0 col7\" >density</th>        <th class=\"col_heading level0 col8\" >pH</th>        <th class=\"col_heading level0 col9\" >sulphates</th>        <th class=\"col_heading level0 col10\" >alcohol</th>        <th class=\"col_heading level0 col11\" >quality</th>    </tr></thead><tbody>\n                <tr>\n                        <th id=\"T_f1230c34_ab48_11ea_9883_309c2342e273level0_row0\" class=\"row_heading level0 row0\" >fixed acidity</th>\n                        <td id=\"T_f1230c34_ab48_11ea_9883_309c2342e273row0_col0\" class=\"data row0 col0\" >1.000000</td>\n                        <td id=\"T_f1230c34_ab48_11ea_9883_309c2342e273row0_col1\" class=\"data row0 col1\" >-0.256131</td>\n                        <td id=\"T_f1230c34_ab48_11ea_9883_309c2342e273row0_col2\" class=\"data row0 col2\" >0.671703</td>\n                        <td id=\"T_f1230c34_ab48_11ea_9883_309c2342e273row0_col3\" class=\"data row0 col3\" >0.114777</td>\n                        <td id=\"T_f1230c34_ab48_11ea_9883_309c2342e273row0_col4\" class=\"data row0 col4\" >0.093705</td>\n                        <td id=\"T_f1230c34_ab48_11ea_9883_309c2342e273row0_col5\" class=\"data row0 col5\" >-0.153794</td>\n                        <td id=\"T_f1230c34_ab48_11ea_9883_309c2342e273row0_col6\" class=\"data row0 col6\" >-0.113181</td>\n                        <td id=\"T_f1230c34_ab48_11ea_9883_309c2342e273row0_col7\" class=\"data row0 col7\" >0.668047</td>\n                        <td id=\"T_f1230c34_ab48_11ea_9883_309c2342e273row0_col8\" class=\"data row0 col8\" >-0.682978</td>\n                        <td id=\"T_f1230c34_ab48_11ea_9883_309c2342e273row0_col9\" class=\"data row0 col9\" >0.183006</td>\n                        <td id=\"T_f1230c34_ab48_11ea_9883_309c2342e273row0_col10\" class=\"data row0 col10\" >-0.061668</td>\n                        <td id=\"T_f1230c34_ab48_11ea_9883_309c2342e273row0_col11\" class=\"data row0 col11\" >0.124052</td>\n            </tr>\n            <tr>\n                        <th id=\"T_f1230c34_ab48_11ea_9883_309c2342e273level0_row1\" class=\"row_heading level0 row1\" >volatile acidity</th>\n                        <td id=\"T_f1230c34_ab48_11ea_9883_309c2342e273row1_col0\" class=\"data row1 col0\" >-0.256131</td>\n                        <td id=\"T_f1230c34_ab48_11ea_9883_309c2342e273row1_col1\" class=\"data row1 col1\" >1.000000</td>\n                        <td id=\"T_f1230c34_ab48_11ea_9883_309c2342e273row1_col2\" class=\"data row1 col2\" >-0.552496</td>\n                        <td id=\"T_f1230c34_ab48_11ea_9883_309c2342e273row1_col3\" class=\"data row1 col3\" >0.001918</td>\n                        <td id=\"T_f1230c34_ab48_11ea_9883_309c2342e273row1_col4\" class=\"data row1 col4\" >0.061298</td>\n                        <td id=\"T_f1230c34_ab48_11ea_9883_309c2342e273row1_col5\" class=\"data row1 col5\" >-0.010504</td>\n                        <td id=\"T_f1230c34_ab48_11ea_9883_309c2342e273row1_col6\" class=\"data row1 col6\" >0.076470</td>\n                        <td id=\"T_f1230c34_ab48_11ea_9883_309c2342e273row1_col7\" class=\"data row1 col7\" >0.022026</td>\n                        <td id=\"T_f1230c34_ab48_11ea_9883_309c2342e273row1_col8\" class=\"data row1 col8\" >0.234937</td>\n                        <td id=\"T_f1230c34_ab48_11ea_9883_309c2342e273row1_col9\" class=\"data row1 col9\" >-0.260987</td>\n                        <td id=\"T_f1230c34_ab48_11ea_9883_309c2342e273row1_col10\" class=\"data row1 col10\" >-0.202288</td>\n                        <td id=\"T_f1230c34_ab48_11ea_9883_309c2342e273row1_col11\" class=\"data row1 col11\" >-0.390558</td>\n            </tr>\n            <tr>\n                        <th id=\"T_f1230c34_ab48_11ea_9883_309c2342e273level0_row2\" class=\"row_heading level0 row2\" >citric acid</th>\n                        <td id=\"T_f1230c34_ab48_11ea_9883_309c2342e273row2_col0\" class=\"data row2 col0\" >0.671703</td>\n                        <td id=\"T_f1230c34_ab48_11ea_9883_309c2342e273row2_col1\" class=\"data row2 col1\" >-0.552496</td>\n                        <td id=\"T_f1230c34_ab48_11ea_9883_309c2342e273row2_col2\" class=\"data row2 col2\" >1.000000</td>\n                        <td id=\"T_f1230c34_ab48_11ea_9883_309c2342e273row2_col3\" class=\"data row2 col3\" >0.143577</td>\n                        <td id=\"T_f1230c34_ab48_11ea_9883_309c2342e273row2_col4\" class=\"data row2 col4\" >0.203823</td>\n                        <td id=\"T_f1230c34_ab48_11ea_9883_309c2342e273row2_col5\" class=\"data row2 col5\" >-0.060978</td>\n                        <td id=\"T_f1230c34_ab48_11ea_9883_309c2342e273row2_col6\" class=\"data row2 col6\" >0.035533</td>\n                        <td id=\"T_f1230c34_ab48_11ea_9883_309c2342e273row2_col7\" class=\"data row2 col7\" >0.364947</td>\n                        <td id=\"T_f1230c34_ab48_11ea_9883_309c2342e273row2_col8\" class=\"data row2 col8\" >-0.541904</td>\n                        <td id=\"T_f1230c34_ab48_11ea_9883_309c2342e273row2_col9\" class=\"data row2 col9\" >0.312770</td>\n                        <td id=\"T_f1230c34_ab48_11ea_9883_309c2342e273row2_col10\" class=\"data row2 col10\" >0.109903</td>\n                        <td id=\"T_f1230c34_ab48_11ea_9883_309c2342e273row2_col11\" class=\"data row2 col11\" >0.226373</td>\n            </tr>\n            <tr>\n                        <th id=\"T_f1230c34_ab48_11ea_9883_309c2342e273level0_row3\" class=\"row_heading level0 row3\" >residual sugar</th>\n                        <td id=\"T_f1230c34_ab48_11ea_9883_309c2342e273row3_col0\" class=\"data row3 col0\" >0.114777</td>\n                        <td id=\"T_f1230c34_ab48_11ea_9883_309c2342e273row3_col1\" class=\"data row3 col1\" >0.001918</td>\n                        <td id=\"T_f1230c34_ab48_11ea_9883_309c2342e273row3_col2\" class=\"data row3 col2\" >0.143577</td>\n                        <td id=\"T_f1230c34_ab48_11ea_9883_309c2342e273row3_col3\" class=\"data row3 col3\" >1.000000</td>\n                        <td id=\"T_f1230c34_ab48_11ea_9883_309c2342e273row3_col4\" class=\"data row3 col4\" >0.055610</td>\n                        <td id=\"T_f1230c34_ab48_11ea_9883_309c2342e273row3_col5\" class=\"data row3 col5\" >0.187049</td>\n                        <td id=\"T_f1230c34_ab48_11ea_9883_309c2342e273row3_col6\" class=\"data row3 col6\" >0.203028</td>\n                        <td id=\"T_f1230c34_ab48_11ea_9883_309c2342e273row3_col7\" class=\"data row3 col7\" >0.355283</td>\n                        <td id=\"T_f1230c34_ab48_11ea_9883_309c2342e273row3_col8\" class=\"data row3 col8\" >-0.085652</td>\n                        <td id=\"T_f1230c34_ab48_11ea_9883_309c2342e273row3_col9\" class=\"data row3 col9\" >0.005527</td>\n                        <td id=\"T_f1230c34_ab48_11ea_9883_309c2342e273row3_col10\" class=\"data row3 col10\" >0.042075</td>\n                        <td id=\"T_f1230c34_ab48_11ea_9883_309c2342e273row3_col11\" class=\"data row3 col11\" >0.013732</td>\n            </tr>\n            <tr>\n                        <th id=\"T_f1230c34_ab48_11ea_9883_309c2342e273level0_row4\" class=\"row_heading level0 row4\" >chlorides</th>\n                        <td id=\"T_f1230c34_ab48_11ea_9883_309c2342e273row4_col0\" class=\"data row4 col0\" >0.093705</td>\n                        <td id=\"T_f1230c34_ab48_11ea_9883_309c2342e273row4_col1\" class=\"data row4 col1\" >0.061298</td>\n                        <td id=\"T_f1230c34_ab48_11ea_9883_309c2342e273row4_col2\" class=\"data row4 col2\" >0.203823</td>\n                        <td id=\"T_f1230c34_ab48_11ea_9883_309c2342e273row4_col3\" class=\"data row4 col3\" >0.055610</td>\n                        <td id=\"T_f1230c34_ab48_11ea_9883_309c2342e273row4_col4\" class=\"data row4 col4\" >1.000000</td>\n                        <td id=\"T_f1230c34_ab48_11ea_9883_309c2342e273row4_col5\" class=\"data row4 col5\" >0.005562</td>\n                        <td id=\"T_f1230c34_ab48_11ea_9883_309c2342e273row4_col6\" class=\"data row4 col6\" >0.047400</td>\n                        <td id=\"T_f1230c34_ab48_11ea_9883_309c2342e273row4_col7\" class=\"data row4 col7\" >0.200632</td>\n                        <td id=\"T_f1230c34_ab48_11ea_9883_309c2342e273row4_col8\" class=\"data row4 col8\" >-0.265026</td>\n                        <td id=\"T_f1230c34_ab48_11ea_9883_309c2342e273row4_col9\" class=\"data row4 col9\" >0.371260</td>\n                        <td id=\"T_f1230c34_ab48_11ea_9883_309c2342e273row4_col10\" class=\"data row4 col10\" >-0.221141</td>\n                        <td id=\"T_f1230c34_ab48_11ea_9883_309c2342e273row4_col11\" class=\"data row4 col11\" >-0.128907</td>\n            </tr>\n            <tr>\n                        <th id=\"T_f1230c34_ab48_11ea_9883_309c2342e273level0_row5\" class=\"row_heading level0 row5\" >free sulfur dioxide</th>\n                        <td id=\"T_f1230c34_ab48_11ea_9883_309c2342e273row5_col0\" class=\"data row5 col0\" >-0.153794</td>\n                        <td id=\"T_f1230c34_ab48_11ea_9883_309c2342e273row5_col1\" class=\"data row5 col1\" >-0.010504</td>\n                        <td id=\"T_f1230c34_ab48_11ea_9883_309c2342e273row5_col2\" class=\"data row5 col2\" >-0.060978</td>\n                        <td id=\"T_f1230c34_ab48_11ea_9883_309c2342e273row5_col3\" class=\"data row5 col3\" >0.187049</td>\n                        <td id=\"T_f1230c34_ab48_11ea_9883_309c2342e273row5_col4\" class=\"data row5 col4\" >0.005562</td>\n                        <td id=\"T_f1230c34_ab48_11ea_9883_309c2342e273row5_col5\" class=\"data row5 col5\" >1.000000</td>\n                        <td id=\"T_f1230c34_ab48_11ea_9883_309c2342e273row5_col6\" class=\"data row5 col6\" >0.667666</td>\n                        <td id=\"T_f1230c34_ab48_11ea_9883_309c2342e273row5_col7\" class=\"data row5 col7\" >-0.021946</td>\n                        <td id=\"T_f1230c34_ab48_11ea_9883_309c2342e273row5_col8\" class=\"data row5 col8\" >0.070377</td>\n                        <td id=\"T_f1230c34_ab48_11ea_9883_309c2342e273row5_col9\" class=\"data row5 col9\" >0.051658</td>\n                        <td id=\"T_f1230c34_ab48_11ea_9883_309c2342e273row5_col10\" class=\"data row5 col10\" >-0.069408</td>\n                        <td id=\"T_f1230c34_ab48_11ea_9883_309c2342e273row5_col11\" class=\"data row5 col11\" >-0.050656</td>\n            </tr>\n            <tr>\n                        <th id=\"T_f1230c34_ab48_11ea_9883_309c2342e273level0_row6\" class=\"row_heading level0 row6\" >total sulfur dioxide</th>\n                        <td id=\"T_f1230c34_ab48_11ea_9883_309c2342e273row6_col0\" class=\"data row6 col0\" >-0.113181</td>\n                        <td id=\"T_f1230c34_ab48_11ea_9883_309c2342e273row6_col1\" class=\"data row6 col1\" >0.076470</td>\n                        <td id=\"T_f1230c34_ab48_11ea_9883_309c2342e273row6_col2\" class=\"data row6 col2\" >0.035533</td>\n                        <td id=\"T_f1230c34_ab48_11ea_9883_309c2342e273row6_col3\" class=\"data row6 col3\" >0.203028</td>\n                        <td id=\"T_f1230c34_ab48_11ea_9883_309c2342e273row6_col4\" class=\"data row6 col4\" >0.047400</td>\n                        <td id=\"T_f1230c34_ab48_11ea_9883_309c2342e273row6_col5\" class=\"data row6 col5\" >0.667666</td>\n                        <td id=\"T_f1230c34_ab48_11ea_9883_309c2342e273row6_col6\" class=\"data row6 col6\" >1.000000</td>\n                        <td id=\"T_f1230c34_ab48_11ea_9883_309c2342e273row6_col7\" class=\"data row6 col7\" >0.071269</td>\n                        <td id=\"T_f1230c34_ab48_11ea_9883_309c2342e273row6_col8\" class=\"data row6 col8\" >-0.066495</td>\n                        <td id=\"T_f1230c34_ab48_11ea_9883_309c2342e273row6_col9\" class=\"data row6 col9\" >0.042947</td>\n                        <td id=\"T_f1230c34_ab48_11ea_9883_309c2342e273row6_col10\" class=\"data row6 col10\" >-0.205654</td>\n                        <td id=\"T_f1230c34_ab48_11ea_9883_309c2342e273row6_col11\" class=\"data row6 col11\" >-0.185100</td>\n            </tr>\n            <tr>\n                        <th id=\"T_f1230c34_ab48_11ea_9883_309c2342e273level0_row7\" class=\"row_heading level0 row7\" >density</th>\n                        <td id=\"T_f1230c34_ab48_11ea_9883_309c2342e273row7_col0\" class=\"data row7 col0\" >0.668047</td>\n                        <td id=\"T_f1230c34_ab48_11ea_9883_309c2342e273row7_col1\" class=\"data row7 col1\" >0.022026</td>\n                        <td id=\"T_f1230c34_ab48_11ea_9883_309c2342e273row7_col2\" class=\"data row7 col2\" >0.364947</td>\n                        <td id=\"T_f1230c34_ab48_11ea_9883_309c2342e273row7_col3\" class=\"data row7 col3\" >0.355283</td>\n                        <td id=\"T_f1230c34_ab48_11ea_9883_309c2342e273row7_col4\" class=\"data row7 col4\" >0.200632</td>\n                        <td id=\"T_f1230c34_ab48_11ea_9883_309c2342e273row7_col5\" class=\"data row7 col5\" >-0.021946</td>\n                        <td id=\"T_f1230c34_ab48_11ea_9883_309c2342e273row7_col6\" class=\"data row7 col6\" >0.071269</td>\n                        <td id=\"T_f1230c34_ab48_11ea_9883_309c2342e273row7_col7\" class=\"data row7 col7\" >1.000000</td>\n                        <td id=\"T_f1230c34_ab48_11ea_9883_309c2342e273row7_col8\" class=\"data row7 col8\" >-0.341699</td>\n                        <td id=\"T_f1230c34_ab48_11ea_9883_309c2342e273row7_col9\" class=\"data row7 col9\" >0.148506</td>\n                        <td id=\"T_f1230c34_ab48_11ea_9883_309c2342e273row7_col10\" class=\"data row7 col10\" >-0.496180</td>\n                        <td id=\"T_f1230c34_ab48_11ea_9883_309c2342e273row7_col11\" class=\"data row7 col11\" >-0.174919</td>\n            </tr>\n            <tr>\n                        <th id=\"T_f1230c34_ab48_11ea_9883_309c2342e273level0_row8\" class=\"row_heading level0 row8\" >pH</th>\n                        <td id=\"T_f1230c34_ab48_11ea_9883_309c2342e273row8_col0\" class=\"data row8 col0\" >-0.682978</td>\n                        <td id=\"T_f1230c34_ab48_11ea_9883_309c2342e273row8_col1\" class=\"data row8 col1\" >0.234937</td>\n                        <td id=\"T_f1230c34_ab48_11ea_9883_309c2342e273row8_col2\" class=\"data row8 col2\" >-0.541904</td>\n                        <td id=\"T_f1230c34_ab48_11ea_9883_309c2342e273row8_col3\" class=\"data row8 col3\" >-0.085652</td>\n                        <td id=\"T_f1230c34_ab48_11ea_9883_309c2342e273row8_col4\" class=\"data row8 col4\" >-0.265026</td>\n                        <td id=\"T_f1230c34_ab48_11ea_9883_309c2342e273row8_col5\" class=\"data row8 col5\" >0.070377</td>\n                        <td id=\"T_f1230c34_ab48_11ea_9883_309c2342e273row8_col6\" class=\"data row8 col6\" >-0.066495</td>\n                        <td id=\"T_f1230c34_ab48_11ea_9883_309c2342e273row8_col7\" class=\"data row8 col7\" >-0.341699</td>\n                        <td id=\"T_f1230c34_ab48_11ea_9883_309c2342e273row8_col8\" class=\"data row8 col8\" >1.000000</td>\n                        <td id=\"T_f1230c34_ab48_11ea_9883_309c2342e273row8_col9\" class=\"data row8 col9\" >-0.196648</td>\n                        <td id=\"T_f1230c34_ab48_11ea_9883_309c2342e273row8_col10\" class=\"data row8 col10\" >0.205633</td>\n                        <td id=\"T_f1230c34_ab48_11ea_9883_309c2342e273row8_col11\" class=\"data row8 col11\" >-0.057731</td>\n            </tr>\n            <tr>\n                        <th id=\"T_f1230c34_ab48_11ea_9883_309c2342e273level0_row9\" class=\"row_heading level0 row9\" >sulphates</th>\n                        <td id=\"T_f1230c34_ab48_11ea_9883_309c2342e273row9_col0\" class=\"data row9 col0\" >0.183006</td>\n                        <td id=\"T_f1230c34_ab48_11ea_9883_309c2342e273row9_col1\" class=\"data row9 col1\" >-0.260987</td>\n                        <td id=\"T_f1230c34_ab48_11ea_9883_309c2342e273row9_col2\" class=\"data row9 col2\" >0.312770</td>\n                        <td id=\"T_f1230c34_ab48_11ea_9883_309c2342e273row9_col3\" class=\"data row9 col3\" >0.005527</td>\n                        <td id=\"T_f1230c34_ab48_11ea_9883_309c2342e273row9_col4\" class=\"data row9 col4\" >0.371260</td>\n                        <td id=\"T_f1230c34_ab48_11ea_9883_309c2342e273row9_col5\" class=\"data row9 col5\" >0.051658</td>\n                        <td id=\"T_f1230c34_ab48_11ea_9883_309c2342e273row9_col6\" class=\"data row9 col6\" >0.042947</td>\n                        <td id=\"T_f1230c34_ab48_11ea_9883_309c2342e273row9_col7\" class=\"data row9 col7\" >0.148506</td>\n                        <td id=\"T_f1230c34_ab48_11ea_9883_309c2342e273row9_col8\" class=\"data row9 col8\" >-0.196648</td>\n                        <td id=\"T_f1230c34_ab48_11ea_9883_309c2342e273row9_col9\" class=\"data row9 col9\" >1.000000</td>\n                        <td id=\"T_f1230c34_ab48_11ea_9883_309c2342e273row9_col10\" class=\"data row9 col10\" >0.093595</td>\n                        <td id=\"T_f1230c34_ab48_11ea_9883_309c2342e273row9_col11\" class=\"data row9 col11\" >0.251397</td>\n            </tr>\n            <tr>\n                        <th id=\"T_f1230c34_ab48_11ea_9883_309c2342e273level0_row10\" class=\"row_heading level0 row10\" >alcohol</th>\n                        <td id=\"T_f1230c34_ab48_11ea_9883_309c2342e273row10_col0\" class=\"data row10 col0\" >-0.061668</td>\n                        <td id=\"T_f1230c34_ab48_11ea_9883_309c2342e273row10_col1\" class=\"data row10 col1\" >-0.202288</td>\n                        <td id=\"T_f1230c34_ab48_11ea_9883_309c2342e273row10_col2\" class=\"data row10 col2\" >0.109903</td>\n                        <td id=\"T_f1230c34_ab48_11ea_9883_309c2342e273row10_col3\" class=\"data row10 col3\" >0.042075</td>\n                        <td id=\"T_f1230c34_ab48_11ea_9883_309c2342e273row10_col4\" class=\"data row10 col4\" >-0.221141</td>\n                        <td id=\"T_f1230c34_ab48_11ea_9883_309c2342e273row10_col5\" class=\"data row10 col5\" >-0.069408</td>\n                        <td id=\"T_f1230c34_ab48_11ea_9883_309c2342e273row10_col6\" class=\"data row10 col6\" >-0.205654</td>\n                        <td id=\"T_f1230c34_ab48_11ea_9883_309c2342e273row10_col7\" class=\"data row10 col7\" >-0.496180</td>\n                        <td id=\"T_f1230c34_ab48_11ea_9883_309c2342e273row10_col8\" class=\"data row10 col8\" >0.205633</td>\n                        <td id=\"T_f1230c34_ab48_11ea_9883_309c2342e273row10_col9\" class=\"data row10 col9\" >0.093595</td>\n                        <td id=\"T_f1230c34_ab48_11ea_9883_309c2342e273row10_col10\" class=\"data row10 col10\" >1.000000</td>\n                        <td id=\"T_f1230c34_ab48_11ea_9883_309c2342e273row10_col11\" class=\"data row10 col11\" >0.476166</td>\n            </tr>\n            <tr>\n                        <th id=\"T_f1230c34_ab48_11ea_9883_309c2342e273level0_row11\" class=\"row_heading level0 row11\" >quality</th>\n                        <td id=\"T_f1230c34_ab48_11ea_9883_309c2342e273row11_col0\" class=\"data row11 col0\" >0.124052</td>\n                        <td id=\"T_f1230c34_ab48_11ea_9883_309c2342e273row11_col1\" class=\"data row11 col1\" >-0.390558</td>\n                        <td id=\"T_f1230c34_ab48_11ea_9883_309c2342e273row11_col2\" class=\"data row11 col2\" >0.226373</td>\n                        <td id=\"T_f1230c34_ab48_11ea_9883_309c2342e273row11_col3\" class=\"data row11 col3\" >0.013732</td>\n                        <td id=\"T_f1230c34_ab48_11ea_9883_309c2342e273row11_col4\" class=\"data row11 col4\" >-0.128907</td>\n                        <td id=\"T_f1230c34_ab48_11ea_9883_309c2342e273row11_col5\" class=\"data row11 col5\" >-0.050656</td>\n                        <td id=\"T_f1230c34_ab48_11ea_9883_309c2342e273row11_col6\" class=\"data row11 col6\" >-0.185100</td>\n                        <td id=\"T_f1230c34_ab48_11ea_9883_309c2342e273row11_col7\" class=\"data row11 col7\" >-0.174919</td>\n                        <td id=\"T_f1230c34_ab48_11ea_9883_309c2342e273row11_col8\" class=\"data row11 col8\" >-0.057731</td>\n                        <td id=\"T_f1230c34_ab48_11ea_9883_309c2342e273row11_col9\" class=\"data row11 col9\" >0.251397</td>\n                        <td id=\"T_f1230c34_ab48_11ea_9883_309c2342e273row11_col10\" class=\"data row11 col10\" >0.476166</td>\n                        <td id=\"T_f1230c34_ab48_11ea_9883_309c2342e273row11_col11\" class=\"data row11 col11\" >1.000000</td>\n            </tr>\n    </tbody></table>"
     },
     "metadata": {},
     "execution_count": 311
    }
   ],
   "source": [
    "df.corr().style.background_gradient(cmap='coolwarm')"
   ]
  },
  {
   "cell_type": "code",
   "execution_count": 312,
   "metadata": {},
   "outputs": [
    {
     "output_type": "execute_result",
     "data": {
      "text/plain": "(681, 12)"
     },
     "metadata": {},
     "execution_count": 312
    }
   ],
   "source": [
    "df[df[\"quality\"] == 5].shape"
   ]
  },
  {
   "cell_type": "code",
   "execution_count": 313,
   "metadata": {},
   "outputs": [],
   "source": [
    "X = df.loc[:, df.columns != 'quality']\n",
    "y = df['quality']\n"
   ]
  },
  {
   "cell_type": "code",
   "execution_count": 314,
   "metadata": {},
   "outputs": [],
   "source": [
    "scaler = MinMaxScaler();"
   ]
  },
  {
   "cell_type": "code",
   "execution_count": 315,
   "metadata": {},
   "outputs": [],
   "source": [
    "X[X.columns]= scaler.fit_transform(X)"
   ]
  },
  {
   "cell_type": "code",
   "execution_count": 316,
   "metadata": {},
   "outputs": [
    {
     "output_type": "execute_result",
     "data": {
      "text/plain": "      fixed acidity  volatile acidity  citric acid  residual sugar  chlorides  \\\n0          0.247788          0.397260         0.00        0.068493   0.106845   \n1          0.283186          0.520548         0.00        0.116438   0.143573   \n2          0.283186          0.438356         0.04        0.095890   0.133556   \n3          0.584071          0.109589         0.56        0.068493   0.105175   \n4          0.247788          0.397260         0.00        0.068493   0.106845   \n...             ...               ...          ...             ...        ...   \n1594       0.141593          0.328767         0.08        0.075342   0.130217   \n1595       0.115044          0.294521         0.10        0.089041   0.083472   \n1596       0.150442          0.267123         0.13        0.095890   0.106845   \n1597       0.115044          0.359589         0.12        0.075342   0.105175   \n1598       0.123894          0.130137         0.47        0.184932   0.091820   \n\n      free sulfur dioxide  total sulfur dioxide   density        pH  \\\n0                0.140845              0.098940  0.567548  0.606299   \n1                0.338028              0.215548  0.494126  0.362205   \n2                0.197183              0.169611  0.508811  0.409449   \n3                0.225352              0.190813  0.582232  0.330709   \n4                0.140845              0.098940  0.567548  0.606299   \n...                   ...                   ...       ...       ...   \n1594             0.436620              0.134276  0.354626  0.559055   \n1595             0.535211              0.159011  0.370778  0.614173   \n1596             0.394366              0.120141  0.416300  0.535433   \n1597             0.436620              0.134276  0.396476  0.653543   \n1598             0.239437              0.127208  0.397944  0.511811   \n\n      sulphates   alcohol  \n0      0.137725  0.153846  \n1      0.209581  0.215385  \n2      0.191617  0.215385  \n3      0.149701  0.215385  \n4      0.137725  0.153846  \n...         ...       ...  \n1594   0.149701  0.323077  \n1595   0.257485  0.430769  \n1596   0.251497  0.400000  \n1597   0.227545  0.276923  \n1598   0.197605  0.400000  \n\n[1599 rows x 11 columns]",
      "text/html": "<div>\n<style scoped>\n    .dataframe tbody tr th:only-of-type {\n        vertical-align: middle;\n    }\n\n    .dataframe tbody tr th {\n        vertical-align: top;\n    }\n\n    .dataframe thead th {\n        text-align: right;\n    }\n</style>\n<table border=\"1\" class=\"dataframe\">\n  <thead>\n    <tr style=\"text-align: right;\">\n      <th></th>\n      <th>fixed acidity</th>\n      <th>volatile acidity</th>\n      <th>citric acid</th>\n      <th>residual sugar</th>\n      <th>chlorides</th>\n      <th>free sulfur dioxide</th>\n      <th>total sulfur dioxide</th>\n      <th>density</th>\n      <th>pH</th>\n      <th>sulphates</th>\n      <th>alcohol</th>\n    </tr>\n  </thead>\n  <tbody>\n    <tr>\n      <th>0</th>\n      <td>0.247788</td>\n      <td>0.397260</td>\n      <td>0.00</td>\n      <td>0.068493</td>\n      <td>0.106845</td>\n      <td>0.140845</td>\n      <td>0.098940</td>\n      <td>0.567548</td>\n      <td>0.606299</td>\n      <td>0.137725</td>\n      <td>0.153846</td>\n    </tr>\n    <tr>\n      <th>1</th>\n      <td>0.283186</td>\n      <td>0.520548</td>\n      <td>0.00</td>\n      <td>0.116438</td>\n      <td>0.143573</td>\n      <td>0.338028</td>\n      <td>0.215548</td>\n      <td>0.494126</td>\n      <td>0.362205</td>\n      <td>0.209581</td>\n      <td>0.215385</td>\n    </tr>\n    <tr>\n      <th>2</th>\n      <td>0.283186</td>\n      <td>0.438356</td>\n      <td>0.04</td>\n      <td>0.095890</td>\n      <td>0.133556</td>\n      <td>0.197183</td>\n      <td>0.169611</td>\n      <td>0.508811</td>\n      <td>0.409449</td>\n      <td>0.191617</td>\n      <td>0.215385</td>\n    </tr>\n    <tr>\n      <th>3</th>\n      <td>0.584071</td>\n      <td>0.109589</td>\n      <td>0.56</td>\n      <td>0.068493</td>\n      <td>0.105175</td>\n      <td>0.225352</td>\n      <td>0.190813</td>\n      <td>0.582232</td>\n      <td>0.330709</td>\n      <td>0.149701</td>\n      <td>0.215385</td>\n    </tr>\n    <tr>\n      <th>4</th>\n      <td>0.247788</td>\n      <td>0.397260</td>\n      <td>0.00</td>\n      <td>0.068493</td>\n      <td>0.106845</td>\n      <td>0.140845</td>\n      <td>0.098940</td>\n      <td>0.567548</td>\n      <td>0.606299</td>\n      <td>0.137725</td>\n      <td>0.153846</td>\n    </tr>\n    <tr>\n      <th>...</th>\n      <td>...</td>\n      <td>...</td>\n      <td>...</td>\n      <td>...</td>\n      <td>...</td>\n      <td>...</td>\n      <td>...</td>\n      <td>...</td>\n      <td>...</td>\n      <td>...</td>\n      <td>...</td>\n    </tr>\n    <tr>\n      <th>1594</th>\n      <td>0.141593</td>\n      <td>0.328767</td>\n      <td>0.08</td>\n      <td>0.075342</td>\n      <td>0.130217</td>\n      <td>0.436620</td>\n      <td>0.134276</td>\n      <td>0.354626</td>\n      <td>0.559055</td>\n      <td>0.149701</td>\n      <td>0.323077</td>\n    </tr>\n    <tr>\n      <th>1595</th>\n      <td>0.115044</td>\n      <td>0.294521</td>\n      <td>0.10</td>\n      <td>0.089041</td>\n      <td>0.083472</td>\n      <td>0.535211</td>\n      <td>0.159011</td>\n      <td>0.370778</td>\n      <td>0.614173</td>\n      <td>0.257485</td>\n      <td>0.430769</td>\n    </tr>\n    <tr>\n      <th>1596</th>\n      <td>0.150442</td>\n      <td>0.267123</td>\n      <td>0.13</td>\n      <td>0.095890</td>\n      <td>0.106845</td>\n      <td>0.394366</td>\n      <td>0.120141</td>\n      <td>0.416300</td>\n      <td>0.535433</td>\n      <td>0.251497</td>\n      <td>0.400000</td>\n    </tr>\n    <tr>\n      <th>1597</th>\n      <td>0.115044</td>\n      <td>0.359589</td>\n      <td>0.12</td>\n      <td>0.075342</td>\n      <td>0.105175</td>\n      <td>0.436620</td>\n      <td>0.134276</td>\n      <td>0.396476</td>\n      <td>0.653543</td>\n      <td>0.227545</td>\n      <td>0.276923</td>\n    </tr>\n    <tr>\n      <th>1598</th>\n      <td>0.123894</td>\n      <td>0.130137</td>\n      <td>0.47</td>\n      <td>0.184932</td>\n      <td>0.091820</td>\n      <td>0.239437</td>\n      <td>0.127208</td>\n      <td>0.397944</td>\n      <td>0.511811</td>\n      <td>0.197605</td>\n      <td>0.400000</td>\n    </tr>\n  </tbody>\n</table>\n<p>1599 rows × 11 columns</p>\n</div>"
     },
     "metadata": {},
     "execution_count": 316
    }
   ],
   "source": [
    "X"
   ]
  },
  {
   "cell_type": "code",
   "execution_count": 317,
   "metadata": {},
   "outputs": [
    {
     "output_type": "execute_result",
     "data": {
      "text/plain": "       fixed acidity  volatile acidity  citric acid  residual sugar  \\\ncount    1599.000000       1599.000000  1599.000000     1599.000000   \nmean        0.329171          0.279329     0.270976        0.112247   \nstd         0.154079          0.122644     0.194801        0.096570   \nmin         0.000000          0.000000     0.000000        0.000000   \n25%         0.221239          0.184932     0.090000        0.068493   \n50%         0.292035          0.273973     0.260000        0.089041   \n75%         0.407080          0.356164     0.420000        0.116438   \nmax         1.000000          1.000000     1.000000        1.000000   \n\n         chlorides  free sulfur dioxide  total sulfur dioxide      density  \\\ncount  1599.000000          1599.000000           1599.000000  1599.000000   \nmean      0.125988             0.209506              0.142996     0.490211   \nstd       0.078573             0.147326              0.116238     0.138571   \nmin       0.000000             0.000000              0.000000     0.000000   \n25%       0.096828             0.084507              0.056537     0.406021   \n50%       0.111853             0.183099              0.113074     0.490455   \n75%       0.130217             0.281690              0.197880     0.570117   \nmax       1.000000             1.000000              1.000000     1.000000   \n\n                pH    sulphates      alcohol  \ncount  1599.000000  1599.000000  1599.000000  \nmean      0.449695     0.196496     0.311228  \nstd       0.121564     0.101501     0.163949  \nmin       0.000000     0.000000     0.000000  \n25%       0.370079     0.131737     0.169231  \n50%       0.448819     0.173653     0.276923  \n75%       0.519685     0.239521     0.415385  \nmax       1.000000     1.000000     1.000000  ",
      "text/html": "<div>\n<style scoped>\n    .dataframe tbody tr th:only-of-type {\n        vertical-align: middle;\n    }\n\n    .dataframe tbody tr th {\n        vertical-align: top;\n    }\n\n    .dataframe thead th {\n        text-align: right;\n    }\n</style>\n<table border=\"1\" class=\"dataframe\">\n  <thead>\n    <tr style=\"text-align: right;\">\n      <th></th>\n      <th>fixed acidity</th>\n      <th>volatile acidity</th>\n      <th>citric acid</th>\n      <th>residual sugar</th>\n      <th>chlorides</th>\n      <th>free sulfur dioxide</th>\n      <th>total sulfur dioxide</th>\n      <th>density</th>\n      <th>pH</th>\n      <th>sulphates</th>\n      <th>alcohol</th>\n    </tr>\n  </thead>\n  <tbody>\n    <tr>\n      <th>count</th>\n      <td>1599.000000</td>\n      <td>1599.000000</td>\n      <td>1599.000000</td>\n      <td>1599.000000</td>\n      <td>1599.000000</td>\n      <td>1599.000000</td>\n      <td>1599.000000</td>\n      <td>1599.000000</td>\n      <td>1599.000000</td>\n      <td>1599.000000</td>\n      <td>1599.000000</td>\n    </tr>\n    <tr>\n      <th>mean</th>\n      <td>0.329171</td>\n      <td>0.279329</td>\n      <td>0.270976</td>\n      <td>0.112247</td>\n      <td>0.125988</td>\n      <td>0.209506</td>\n      <td>0.142996</td>\n      <td>0.490211</td>\n      <td>0.449695</td>\n      <td>0.196496</td>\n      <td>0.311228</td>\n    </tr>\n    <tr>\n      <th>std</th>\n      <td>0.154079</td>\n      <td>0.122644</td>\n      <td>0.194801</td>\n      <td>0.096570</td>\n      <td>0.078573</td>\n      <td>0.147326</td>\n      <td>0.116238</td>\n      <td>0.138571</td>\n      <td>0.121564</td>\n      <td>0.101501</td>\n      <td>0.163949</td>\n    </tr>\n    <tr>\n      <th>min</th>\n      <td>0.000000</td>\n      <td>0.000000</td>\n      <td>0.000000</td>\n      <td>0.000000</td>\n      <td>0.000000</td>\n      <td>0.000000</td>\n      <td>0.000000</td>\n      <td>0.000000</td>\n      <td>0.000000</td>\n      <td>0.000000</td>\n      <td>0.000000</td>\n    </tr>\n    <tr>\n      <th>25%</th>\n      <td>0.221239</td>\n      <td>0.184932</td>\n      <td>0.090000</td>\n      <td>0.068493</td>\n      <td>0.096828</td>\n      <td>0.084507</td>\n      <td>0.056537</td>\n      <td>0.406021</td>\n      <td>0.370079</td>\n      <td>0.131737</td>\n      <td>0.169231</td>\n    </tr>\n    <tr>\n      <th>50%</th>\n      <td>0.292035</td>\n      <td>0.273973</td>\n      <td>0.260000</td>\n      <td>0.089041</td>\n      <td>0.111853</td>\n      <td>0.183099</td>\n      <td>0.113074</td>\n      <td>0.490455</td>\n      <td>0.448819</td>\n      <td>0.173653</td>\n      <td>0.276923</td>\n    </tr>\n    <tr>\n      <th>75%</th>\n      <td>0.407080</td>\n      <td>0.356164</td>\n      <td>0.420000</td>\n      <td>0.116438</td>\n      <td>0.130217</td>\n      <td>0.281690</td>\n      <td>0.197880</td>\n      <td>0.570117</td>\n      <td>0.519685</td>\n      <td>0.239521</td>\n      <td>0.415385</td>\n    </tr>\n    <tr>\n      <th>max</th>\n      <td>1.000000</td>\n      <td>1.000000</td>\n      <td>1.000000</td>\n      <td>1.000000</td>\n      <td>1.000000</td>\n      <td>1.000000</td>\n      <td>1.000000</td>\n      <td>1.000000</td>\n      <td>1.000000</td>\n      <td>1.000000</td>\n      <td>1.000000</td>\n    </tr>\n  </tbody>\n</table>\n</div>"
     },
     "metadata": {},
     "execution_count": 317
    }
   ],
   "source": [
    "X.describe()"
   ]
  },
  {
   "cell_type": "code",
   "execution_count": 318,
   "metadata": {},
   "outputs": [],
   "source": [
    "X_train, X_test, y_train, y_test = train_test_split(X,y, test_size=0.3, random_state= 1)"
   ]
  },
  {
   "cell_type": "code",
   "execution_count": 319,
   "metadata": {},
   "outputs": [],
   "source": [
    "clf_KNN = KNeighborsClassifier(n_neighbors=5)\n",
    "clf_arvore = DecisionTreeClassifier() \n",
    "clf_floresta = RandomForestClassifier(max_depth=10, random_state=1) \n",
    "clf_svm = SVC(gamma='auto',kernel='rbf') \n",
    "clf_mlp = MLPClassifier( alpha=1e-5, hidden_layer_sizes=(5, 5), random_state=1) "
   ]
  },
  {
   "cell_type": "code",
   "execution_count": 320,
   "metadata": {},
   "outputs": [
    {
     "output_type": "stream",
     "name": "stdout",
     "text": "0.565\n"
    }
   ],
   "source": [
    "clf_KNN.fit(X_train, y_train)\n",
    "print(round(clf_KNN.score(X_test, y_test),3))"
   ]
  },
  {
   "cell_type": "code",
   "execution_count": 321,
   "metadata": {},
   "outputs": [
    {
     "output_type": "stream",
     "name": "stdout",
     "text": "0.583\n"
    }
   ],
   "source": [
    "clf_arvore.fit(X_train, y_train)\n",
    "print(round(clf_arvore.score(X_test, y_test),3))\n",
    "\n"
   ]
  },
  {
   "cell_type": "code",
   "execution_count": 322,
   "metadata": {},
   "outputs": [
    {
     "output_type": "stream",
     "name": "stdout",
     "text": "0.679\n"
    }
   ],
   "source": [
    "clf_floresta.fit(X_train, y_train)\n",
    "print(round(clf_floresta.score(X_test, y_test),3))"
   ]
  },
  {
   "cell_type": "code",
   "execution_count": 323,
   "metadata": {},
   "outputs": [
    {
     "output_type": "stream",
     "name": "stdout",
     "text": "0.585\n"
    }
   ],
   "source": [
    "clf_svm.fit(X_train, y_train)\n",
    "print(round(clf_svm.score(X_test, y_test),3))"
   ]
  },
  {
   "cell_type": "code",
   "execution_count": 324,
   "metadata": {},
   "outputs": [
    {
     "output_type": "stream",
     "name": "stdout",
     "text": "0.6\n"
    }
   ],
   "source": [
    "clf_mlp.fit(X_train, y_train)\n",
    "\n",
    "print(round(clf_mlp.score(X_test, y_test),3))"
   ]
  },
  {
   "cell_type": "code",
   "execution_count": 325,
   "metadata": {
    "tags": [
     "outputPrepend"
    ]
   },
   "outputs": [],
   "source": [
    "y = y.apply(lambda x: 1 if x > 5 else 0)"
   ]
  },
  {
   "cell_type": "code",
   "execution_count": 326,
   "metadata": {},
   "outputs": [],
   "source": [
    "X_train, X_test, y_train, y_test = train_test_split(X,y, test_size=0.3, random_state= 1)"
   ]
  },
  {
   "cell_type": "code",
   "execution_count": 327,
   "metadata": {},
   "outputs": [],
   "source": [
    "clf_floresta = RandomForestClassifier(max_depth=10, random_state=1) "
   ]
  },
  {
   "cell_type": "code",
   "execution_count": 328,
   "metadata": {},
   "outputs": [
    {
     "output_type": "stream",
     "name": "stdout",
     "text": "0.804\n"
    }
   ],
   "source": [
    "clf_floresta.fit(X_train, y_train)\n",
    "print(round(clf_floresta.score(X_test, y_test),3))"
   ]
  },
  {
   "cell_type": "code",
   "execution_count": null,
   "metadata": {},
   "outputs": [],
   "source": []
  }
 ],
 "metadata": {
  "language_info": {
   "codemirror_mode": {
    "name": "ipython",
    "version": 3
   },
   "file_extension": ".py",
   "mimetype": "text/x-python",
   "name": "python",
   "nbconvert_exporter": "python",
   "pygments_lexer": "ipython3",
   "version": "3.7.6-final"
  },
  "orig_nbformat": 2,
  "kernelspec": {
   "name": "python37664bitbaseconda6544f5bfcfd24c2eb4dabf13bce03a0e",
   "display_name": "Python 3.7.6 64-bit ('base': conda)"
  }
 },
 "nbformat": 4,
 "nbformat_minor": 2
}